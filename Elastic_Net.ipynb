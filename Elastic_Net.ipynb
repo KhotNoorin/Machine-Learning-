{
  "nbformat": 4,
  "nbformat_minor": 0,
  "metadata": {
    "colab": {
      "provenance": [],
      "authorship_tag": "ABX9TyPbosAA6Nz+/QU05XCCW4HN",
      "include_colab_link": true
    },
    "kernelspec": {
      "name": "python3",
      "display_name": "Python 3"
    },
    "language_info": {
      "name": "python"
    }
  },
  "cells": [
    {
      "cell_type": "markdown",
      "metadata": {
        "id": "view-in-github",
        "colab_type": "text"
      },
      "source": [
        "<a href=\"https://colab.research.google.com/github/KhotNoorin/Machine-Learning-/blob/main/Elastic_Net.ipynb\" target=\"_parent\"><img src=\"https://colab.research.google.com/assets/colab-badge.svg\" alt=\"Open In Colab\"/></a>"
      ]
    },
    {
      "cell_type": "markdown",
      "source": [
        "# Elastic Net:\n",
        "\n",
        "\n",
        "---\n",
        "\n",
        "Elastic Net is a regularized regression technique that linearly combines the penalties of Lasso (L1) and Ridge (L2) regression.\n",
        "\n",
        "Elastic Net is used to improve model performance and prevent overfitting by adding two types of regularization:\n",
        "\n",
        "* L1 (Lasso): Encourages sparsity (removes irrelevant features).\n",
        "\n",
        "* L2 (Ridge): Encourages small coefficient values (handles multicollinearity).\n",
        "\n",
        "\n",
        "\n",
        "---\n",
        "\n",
        "When to Use Elastic Net:\n",
        "\n",
        "* You have many features, and some are correlated.\n",
        "\n",
        "* Lasso selects only one of the correlated features and drops the others.\n",
        "\n",
        "* Ridge includes all correlated features but does not reduce coefficients to 0.\n",
        "\n",
        "* Elastic Net balances both behaviors, offering better feature selection and handling multicollinearity.\n",
        "\n",
        "---\n",
        "\n",
        "Advantages of Elastic Net:\n",
        "- Combines Strengths of Lasso and Ridge\n",
        "- Useful for High-Dimensional Data\n",
        "\n",
        "- Group Effect: Encourages grouping of correlated features, unlike Lasso which picks just one.\n",
        "- More Stable than Lasso\n",
        "---\n",
        "\n",
        "Disadvantages of Elastic Net:\n",
        "- More Hyperparameters to Tune\n",
        "- Computationally Expensive\n",
        "- Interpretability Can Be Reduced\n",
        "- May Not Always Outperform Lasso or Ridge\n",
        "\n",
        "---\n",
        "\n",
        "Summary:\n",
        "\n",
        "\n",
        "| Aspect         | Elastic Net                                                             |\n",
        "| -------------- | ----------------------------------------------------------------------- |\n",
        "| Type           | Regularized Linear Regression                                           |\n",
        "| Penalty        | Combination of L1 (Lasso) and L2 (Ridge)                                |\n",
        "| Purpose        | Prevent overfitting, feature selection, and handle correlated variables |\n",
        "| Formula        | RSS + λ \\[α ‖β‖₁ + (1−α) ‖β‖₂²]                                         |\n",
        "| Key Parameters | alpha (strength), l1_ratio (balance between L1 and L2)              |\n",
        "| Best Use Case  | High-dimensional data with correlated features                          |\n"
      ],
      "metadata": {
        "id": "EHegeDTVeAui"
      }
    },
    {
      "cell_type": "code",
      "execution_count": 1,
      "metadata": {
        "id": "rt7vpgEMd75X"
      },
      "outputs": [],
      "source": [
        "from sklearn.datasets import load_diabetes\n",
        "from sklearn.linear_model import LinearRegression,Ridge,Lasso,ElasticNet\n",
        "from sklearn.model_selection import train_test_split\n",
        "from sklearn.metrics import r2_score"
      ]
    },
    {
      "cell_type": "code",
      "source": [
        "X,y = load_diabetes(return_X_y=True)"
      ],
      "metadata": {
        "id": "IMiFj93ZgVbm"
      },
      "execution_count": 2,
      "outputs": []
    },
    {
      "cell_type": "code",
      "source": [
        "X_train,X_test,y_train,y_test = train_test_split(X,y,test_size=0.2,random_state=2)"
      ],
      "metadata": {
        "id": "ZPArrzHGgXAs"
      },
      "execution_count": 3,
      "outputs": []
    },
    {
      "cell_type": "code",
      "source": [
        "# Linear Regression\n",
        "reg = LinearRegression()\n",
        "reg.fit(X_train,y_train)\n",
        "y_pred = reg.predict(X_test)\n",
        "r2_score(y_test,y_pred)"
      ],
      "metadata": {
        "colab": {
          "base_uri": "https://localhost:8080/"
        },
        "id": "VtB0YYmvgYls",
        "outputId": "50dfd669-4bca-4f16-af0c-0866bccb14c7"
      },
      "execution_count": 4,
      "outputs": [
        {
          "output_type": "execute_result",
          "data": {
            "text/plain": [
              "0.4399338661568968"
            ]
          },
          "metadata": {},
          "execution_count": 4
        }
      ]
    },
    {
      "cell_type": "code",
      "source": [
        "# Ridge\n",
        "reg = Ridge(alpha=0.1)\n",
        "reg.fit(X_train,y_train)\n",
        "y_pred = reg.predict(X_test)\n",
        "r2_score(y_test,y_pred)"
      ],
      "metadata": {
        "colab": {
          "base_uri": "https://localhost:8080/"
        },
        "id": "RYy7O0PHgaTC",
        "outputId": "0c7d9383-9a53-4b80-9a3e-fe91aa495cf0"
      },
      "execution_count": 5,
      "outputs": [
        {
          "output_type": "execute_result",
          "data": {
            "text/plain": [
              "0.45199494197195456"
            ]
          },
          "metadata": {},
          "execution_count": 5
        }
      ]
    },
    {
      "cell_type": "code",
      "source": [
        "# Lasso\n",
        "reg = Lasso(alpha=0.01)\n",
        "reg.fit(X_train,y_train)\n",
        "y_pred = reg.predict(X_test)\n",
        "r2_score(y_test,y_pred)"
      ],
      "metadata": {
        "colab": {
          "base_uri": "https://localhost:8080/"
        },
        "id": "CzeapduQgcZo",
        "outputId": "472a2d8e-7273-4f59-8217-a62fe5eebf90"
      },
      "execution_count": 6,
      "outputs": [
        {
          "output_type": "execute_result",
          "data": {
            "text/plain": [
              "0.44111855963110613"
            ]
          },
          "metadata": {},
          "execution_count": 6
        }
      ]
    },
    {
      "cell_type": "code",
      "source": [
        "# ElasticNet\n",
        "\n",
        "reg = ElasticNet(alpha=0.005,l1_ratio=0.9)\n",
        "reg.fit(X_train,y_train)\n",
        "y_pred = reg.predict(X_test)\n",
        "r2_score(y_test,y_pred)"
      ],
      "metadata": {
        "colab": {
          "base_uri": "https://localhost:8080/"
        },
        "id": "4swmSI9jgecs",
        "outputId": "34f2ce00-4b2f-4176-c51e-29c9d275f2bd"
      },
      "execution_count": 7,
      "outputs": [
        {
          "output_type": "execute_result",
          "data": {
            "text/plain": [
              "0.4531474541554823"
            ]
          },
          "metadata": {},
          "execution_count": 7
        }
      ]
    },
    {
      "cell_type": "code",
      "source": [
        "# ElasticNet\n",
        "reg = ElasticNet(alpha=0.005,l1_ratio=0.5)\n",
        "reg.fit(X_train,y_train)\n",
        "y_pred = reg.predict(X_test)\n",
        "r2_score(y_test,y_pred)"
      ],
      "metadata": {
        "colab": {
          "base_uri": "https://localhost:8080/"
        },
        "id": "SKHkhFsEggXh",
        "outputId": "dba71eea-155c-4f7f-856e-015318025e81"
      },
      "execution_count": 8,
      "outputs": [
        {
          "output_type": "execute_result",
          "data": {
            "text/plain": [
              "0.41541806089276956"
            ]
          },
          "metadata": {},
          "execution_count": 8
        }
      ]
    },
    {
      "cell_type": "code",
      "source": [],
      "metadata": {
        "id": "UqvIM474jMCV"
      },
      "execution_count": 9,
      "outputs": []
    },
    {
      "cell_type": "code",
      "source": [],
      "metadata": {
        "id": "sTG_vMp0jQA0"
      },
      "execution_count": null,
      "outputs": []
    }
  ]
}