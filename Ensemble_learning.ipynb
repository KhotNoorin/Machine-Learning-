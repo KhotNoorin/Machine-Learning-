{
  "nbformat": 4,
  "nbformat_minor": 0,
  "metadata": {
    "colab": {
      "provenance": [],
      "authorship_tag": "ABX9TyOjDHIhOpFd6DIzG0sRtFA3",
      "include_colab_link": true
    },
    "kernelspec": {
      "name": "python3",
      "display_name": "Python 3"
    },
    "language_info": {
      "name": "python"
    }
  },
  "cells": [
    {
      "cell_type": "markdown",
      "metadata": {
        "id": "view-in-github",
        "colab_type": "text"
      },
      "source": [
        "<a href=\"https://colab.research.google.com/github/KhotNoorin/Machine-Learning-/blob/main/Ensemble_learning.ipynb\" target=\"_parent\"><img src=\"https://colab.research.google.com/assets/colab-badge.svg\" alt=\"Open In Colab\"/></a>"
      ]
    },
    {
      "cell_type": "markdown",
      "source": [
        "# Ensemble learning:\n",
        "\n",
        "\n",
        "---\n",
        "\n",
        "Ensemble Learning is a powerful machine learning technique where multiple models (often called \"weak learners\" or \"base learners\") are combined to produce a stronger overall model. The idea is that while a single model might make mistakes, combining several models can reduce errors and improve accuracy and robustness.\n",
        "\n",
        "\n",
        "\n",
        "---\n",
        "\n",
        "Why Ensemble Learning Works:\n",
        "- Reduces bias (error due to wrong assumptions)\n",
        "- Reduces variance (error due to sensitivity to small changes in data)\n",
        "- Improves generalization on unseen data\n",
        "\n",
        "\n",
        "\n",
        "---\n",
        "\n",
        "# Main Types of Ensemble Learning\n",
        "1. Bagging (Bootstrap Aggregating)\n",
        " - Goal: Reduce variance\n",
        " - How: Train multiple models on random subsets of the data (with replacement)\n",
        " - Final Prediction: Averaging (regression) or majority vote (classification)\n",
        " - Example: Random Forest\n",
        "\n",
        "2. Boosting\n",
        " - Goal: Reduce bias\n",
        " - How: Models are trained sequentially, each trying to correct the errors of the previous one\n",
        " - Final Prediction: Weighted vote or sum of outputs\n",
        " - Examples:\n",
        "      - AdaBoost\n",
        "      - Gradient Boosting\n",
        "      - XGBoost\n",
        "      - LightGBM\n",
        "      - CatBoost\n",
        "\n",
        "3. Stacking (Stacked Generalization)\n",
        "- Goal: Combine strengths of multiple different models\n",
        "- How: Use a meta-model to learn how to best combine base models\n",
        "- Final Prediction: Meta-model output based on predictions from base models\n",
        "\n",
        "4. Voting\n",
        "- Goal: Combine predictions from multiple models\n",
        "- How: Simple voting (hard or soft) across different models\n",
        "- Types:\n",
        "    - Hard Voting: Majority vote\n",
        "    - Soft Voting: Average probabilities (works only if models output probabilities)\n",
        "\n",
        "---\n",
        "\n",
        "Summary:\n",
        "\n",
        "| Ensemble Type | Purpose        | Key Feature           | Example Models           |\n",
        "| ------------- | -------------- | --------------------- | ------------------------ |\n",
        "| Bagging       | ↓ Variance     | Parallel learners     | Random Forest            |\n",
        "| Boosting      | ↓ Bias         | Sequential correction | AdaBoost, XGBoost        |\n",
        "| Stacking      | ↑ Performance  | Meta-model combiner   | Blend of any classifiers |\n",
        "| Voting        | Simple combine | Hard or soft voting   | VotingClassifier         |\n"
      ],
      "metadata": {
        "id": "qj2_dNHrm-o-"
      }
    },
    {
      "cell_type": "code",
      "execution_count": 1,
      "metadata": {
        "id": "axsfR6j4m4HE"
      },
      "outputs": [],
      "source": [
        "# Import Libraries\n",
        "import numpy as np\n",
        "import pandas as pd\n",
        "from sklearn.datasets import load_iris\n",
        "from sklearn.model_selection import train_test_split\n",
        "from sklearn.metrics import accuracy_score"
      ]
    },
    {
      "cell_type": "code",
      "source": [
        "# Ensemble Methods\n",
        "from sklearn.ensemble import RandomForestClassifier, AdaBoostClassifier, VotingClassifier, StackingClassifier"
      ],
      "metadata": {
        "id": "Ui4VQ3OToOWB"
      },
      "execution_count": 2,
      "outputs": []
    },
    {
      "cell_type": "code",
      "source": [
        "# Base Models\n",
        "from sklearn.linear_model import LogisticRegression\n",
        "from sklearn.tree import DecisionTreeClassifier\n",
        "from sklearn.svm import SVC\n",
        "from sklearn.naive_bayes import GaussianNB"
      ],
      "metadata": {
        "id": "3Bwn1YNxoRHu"
      },
      "execution_count": 3,
      "outputs": []
    },
    {
      "cell_type": "markdown",
      "source": [
        "# 1. Load and Split Data\n"
      ],
      "metadata": {
        "id": "J38RZeuToa6z"
      }
    },
    {
      "cell_type": "code",
      "source": [
        "iris = load_iris()\n",
        "X = iris.data\n",
        "y = iris.target"
      ],
      "metadata": {
        "id": "eje8atYWoWPu"
      },
      "execution_count": 4,
      "outputs": []
    },
    {
      "cell_type": "code",
      "source": [
        "X_train, X_test, y_train, y_test = train_test_split(X, y, test_size=0.2, random_state=42)"
      ],
      "metadata": {
        "id": "-kvAhMfHocHQ"
      },
      "execution_count": 5,
      "outputs": []
    },
    {
      "cell_type": "markdown",
      "source": [
        "# 2. Random Forest (Bagging)\n"
      ],
      "metadata": {
        "id": "pzUd-hVToibq"
      }
    },
    {
      "cell_type": "code",
      "source": [
        "rf = RandomForestClassifier(n_estimators=100, random_state=42)\n",
        "rf.fit(X_train, y_train)\n",
        "rf_pred = rf.predict(X_test)\n",
        "rf_acc = accuracy_score(y_test, rf_pred)\n",
        "print(f\"Random Forest Accuracy: {rf_acc:.2f}\")"
      ],
      "metadata": {
        "colab": {
          "base_uri": "https://localhost:8080/"
        },
        "id": "KMxP5zQloeO9",
        "outputId": "9ffaaa22-a088-4933-d830-fe3466feb000"
      },
      "execution_count": 6,
      "outputs": [
        {
          "output_type": "stream",
          "name": "stdout",
          "text": [
            "Random Forest Accuracy: 1.00\n"
          ]
        }
      ]
    },
    {
      "cell_type": "markdown",
      "source": [
        "# 3. AdaBoost (Boosting)\n"
      ],
      "metadata": {
        "id": "FRLpn3ZUonlD"
      }
    },
    {
      "cell_type": "code",
      "source": [
        "ada = AdaBoostClassifier(n_estimators=50, random_state=42)\n",
        "ada.fit(X_train, y_train)\n",
        "ada_pred = ada.predict(X_test)\n",
        "ada_acc = accuracy_score(y_test, ada_pred)\n",
        "print(f\"AdaBoost Accuracy: {ada_acc:.2f}\")"
      ],
      "metadata": {
        "colab": {
          "base_uri": "https://localhost:8080/"
        },
        "id": "JNntUFgaojbF",
        "outputId": "2c07d8b4-b5bf-49ac-b33d-ffb474d33939"
      },
      "execution_count": 7,
      "outputs": [
        {
          "output_type": "stream",
          "name": "stdout",
          "text": [
            "AdaBoost Accuracy: 0.93\n"
          ]
        }
      ]
    },
    {
      "cell_type": "markdown",
      "source": [
        "# 4. Voting Classifier\n"
      ],
      "metadata": {
        "id": "8wDoQfOEow4B"
      }
    },
    {
      "cell_type": "code",
      "source": [
        "# SVC must have `probability=True` for soft voting\n",
        "clf1 = LogisticRegression()\n",
        "clf2 = DecisionTreeClassifier()\n",
        "clf3 = SVC(probability=True)\n",
        "\n",
        "voting = VotingClassifier(estimators=[\n",
        "    ('lr', clf1), ('dt', clf2), ('svc', clf3)],\n",
        "    voting='soft')  # Change to 'hard' for hard voting\n",
        "\n",
        "voting.fit(X_train, y_train)\n",
        "voting_pred = voting.predict(X_test)\n",
        "voting_acc = accuracy_score(y_test, voting_pred)\n",
        "print(f\"Voting Classifier Accuracy: {voting_acc:.2f}\")\n"
      ],
      "metadata": {
        "colab": {
          "base_uri": "https://localhost:8080/"
        },
        "id": "TB1sYFxloou9",
        "outputId": "354e9a04-f061-4a4a-c007-ab0a6cd1fc5d"
      },
      "execution_count": 8,
      "outputs": [
        {
          "output_type": "stream",
          "name": "stdout",
          "text": [
            "Voting Classifier Accuracy: 1.00\n"
          ]
        }
      ]
    },
    {
      "cell_type": "markdown",
      "source": [
        "# 5. Stacking Classifier\n"
      ],
      "metadata": {
        "id": "A_dKztyro4Mq"
      }
    },
    {
      "cell_type": "code",
      "source": [
        "# Base learners\n",
        "estimators = [\n",
        "    ('lr', LogisticRegression()),\n",
        "    ('dt', DecisionTreeClassifier()),\n",
        "    ('nb', GaussianNB())\n",
        "]"
      ],
      "metadata": {
        "id": "LqAcyYDwoxju"
      },
      "execution_count": 9,
      "outputs": []
    },
    {
      "cell_type": "code",
      "source": [
        "# Meta-learner\n",
        "stacking = StackingClassifier(estimators=estimators, final_estimator=SVC())\n",
        "\n",
        "stacking.fit(X_train, y_train)\n",
        "stacking_pred = stacking.predict(X_test)\n",
        "stacking_acc = accuracy_score(y_test, stacking_pred)\n",
        "print(f\"Stacking Classifier Accuracy: {stacking_acc:.2f}\")"
      ],
      "metadata": {
        "colab": {
          "base_uri": "https://localhost:8080/"
        },
        "id": "mm-EPctTo5Dl",
        "outputId": "92f06c47-0f80-4b44-a074-eed8ad7a5502"
      },
      "execution_count": 10,
      "outputs": [
        {
          "output_type": "stream",
          "name": "stdout",
          "text": [
            "Stacking Classifier Accuracy: 1.00\n"
          ]
        }
      ]
    },
    {
      "cell_type": "code",
      "source": [],
      "metadata": {
        "id": "mYU20DMmo7z3"
      },
      "execution_count": null,
      "outputs": []
    }
  ]
}